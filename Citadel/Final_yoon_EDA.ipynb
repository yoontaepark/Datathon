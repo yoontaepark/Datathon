{
 "cells": [
  {
   "cell_type": "markdown",
   "id": "723f1fb2",
   "metadata": {},
   "source": [
    "### We started from sample question 1, and got interested in the impact of MPOWER for every other countries\n",
    "### Since our team were trying to analyze the impact of MPOWER, we focused on stop_smoking.csv in terms of looking at MPOWER, and tobacco use worlwide in terms of result of MPOWER\n",
    "\n",
    "\n",
    "### For death rate, it would be hard to assume direct impact of MPOWER, since death rate should be considered as a long-term result. Given dataset of small years, the direct impact of MPOWER to death rate would not be representative and pursuasive"
   ]
  },
  {
   "cell_type": "code",
   "execution_count": 1,
   "id": "7a8d5e77",
   "metadata": {},
   "outputs": [],
   "source": [
    "# importing basic libraries\n",
    "import numpy as np\n",
    "import pandas as pd\n",
    "import matplotlib.pyplot as plt\n",
    "import seaborn as sns\n",
    "\n",
    "plt.style.use('seaborn')\n",
    "sns.set(font_scale=2.5)\n",
    "\n",
    "#ignore warnings\n",
    "import warnings\n",
    "warnings.filterwarnings('ignore')\n",
    "\n",
    "# to see the result of plot graph in same screen\n",
    "%matplotlib inline\n",
    "\n",
    "death_df = pd.read_csv('./death_rates_smoking_age.csv')\n",
    "sales_df = pd.read_csv('./sales_per_day.csv')\n",
    "stop_df = pd.read_csv('./stop_smoking.csv')\n",
    "production_df = pd.read_csv('./tobacco_production.csv')\n",
    "production_txt = pd.read_csv('./tobacco_production_footnotes.txt')\n",
    "use_us_df = pd.read_csv('./tobacco_use_us.csv')\n",
    "use_ww_df = pd.read_csv('./tobacco_use_ww.csv')\n",
    "us_disease_df = pd.read_csv('./us_chronic_resp_disease.csv')"
   ]
  },
  {
   "cell_type": "code",
   "execution_count": 2,
   "id": "dd11a396",
   "metadata": {},
   "outputs": [
    {
     "name": "stdout",
     "output_type": "stream",
     "text": [
      "<class 'pandas.core.frame.DataFrame'>\n",
      "RangeIndex: 774 entries, 0 to 773\n",
      "Data columns (total 7 columns):\n",
      " #   Column                       Non-Null Count  Dtype  \n",
      "---  ------                       --------------  -----  \n",
      " 0   Entity                       774 non-null    object \n",
      " 1   Code                         774 non-null    object \n",
      " 2   Year                         774 non-null    int64  \n",
      " 3   AvgCigarettePriceDollars     208 non-null    float64\n",
      " 4   AvgTaxesAsPctCigarettePrice  209 non-null    float64\n",
      " 5   EnforceBansTobaccoAd         774 non-null    int64  \n",
      " 6   HelpToQuit                   774 non-null    int64  \n",
      "dtypes: float64(2), int64(3), object(2)\n",
      "memory usage: 42.5+ KB\n"
     ]
    }
   ],
   "source": [
    "# Starting from stop_smoking.csv file\n",
    "stop_df.info()"
   ]
  },
  {
   "cell_type": "code",
   "execution_count": 3,
   "id": "6a6e7746",
   "metadata": {},
   "outputs": [
    {
     "data": {
      "text/plain": [
       "Entity                           0\n",
       "Code                             0\n",
       "Year                             0\n",
       "AvgCigarettePriceDollars       566\n",
       "AvgTaxesAsPctCigarettePrice    565\n",
       "EnforceBansTobaccoAd             0\n",
       "HelpToQuit                       0\n",
       "dtype: int64"
      ]
     },
     "execution_count": 3,
     "metadata": {},
     "output_type": "execute_result"
    }
   ],
   "source": [
    "# there are some null values in price columns\n",
    "stop_df.isnull().sum()"
   ]
  },
  {
   "cell_type": "code",
   "execution_count": 4,
   "id": "3752c35a",
   "metadata": {
    "scrolled": true
   },
   "outputs": [
    {
     "data": {
      "text/plain": [
       "2007    193\n",
       "2010    193\n",
       "2012    194\n",
       "2014    194\n",
       "Name: Year, dtype: int64"
      ]
     },
     "execution_count": 4,
     "metadata": {},
     "output_type": "execute_result"
    }
   ],
   "source": [
    "# Checking year column: 2007, 2010, 2012, and 2014 data \n",
    "stop_df['Year'].value_counts().sort_index()"
   ]
  },
  {
   "cell_type": "code",
   "execution_count": 5,
   "id": "71c967ae",
   "metadata": {},
   "outputs": [
    {
     "data": {
      "text/html": [
       "<div>\n",
       "<style scoped>\n",
       "    .dataframe tbody tr th:only-of-type {\n",
       "        vertical-align: middle;\n",
       "    }\n",
       "\n",
       "    .dataframe tbody tr th {\n",
       "        vertical-align: top;\n",
       "    }\n",
       "\n",
       "    .dataframe thead th {\n",
       "        text-align: right;\n",
       "    }\n",
       "</style>\n",
       "<table border=\"1\" class=\"dataframe\">\n",
       "  <thead>\n",
       "    <tr style=\"text-align: right;\">\n",
       "      <th></th>\n",
       "      <th>Year</th>\n",
       "      <th>AvgCigarettePriceDollars</th>\n",
       "      <th>AvgTaxesAsPctCigarettePrice</th>\n",
       "      <th>EnforceBansTobaccoAd</th>\n",
       "      <th>HelpToQuit</th>\n",
       "    </tr>\n",
       "  </thead>\n",
       "  <tbody>\n",
       "    <tr>\n",
       "      <th>count</th>\n",
       "      <td>774.000000</td>\n",
       "      <td>208.000000</td>\n",
       "      <td>209.000000</td>\n",
       "      <td>774.000000</td>\n",
       "      <td>774.000000</td>\n",
       "    </tr>\n",
       "    <tr>\n",
       "      <th>mean</th>\n",
       "      <td>2010.755814</td>\n",
       "      <td>4.336394</td>\n",
       "      <td>57.339234</td>\n",
       "      <td>3.313953</td>\n",
       "      <td>3.493540</td>\n",
       "    </tr>\n",
       "    <tr>\n",
       "      <th>std</th>\n",
       "      <td>2.587373</td>\n",
       "      <td>2.534659</td>\n",
       "      <td>20.403278</td>\n",
       "      <td>1.088995</td>\n",
       "      <td>0.807042</td>\n",
       "    </tr>\n",
       "    <tr>\n",
       "      <th>min</th>\n",
       "      <td>2007.000000</td>\n",
       "      <td>0.000000</td>\n",
       "      <td>0.000000</td>\n",
       "      <td>2.000000</td>\n",
       "      <td>1.000000</td>\n",
       "    </tr>\n",
       "    <tr>\n",
       "      <th>25%</th>\n",
       "      <td>2010.000000</td>\n",
       "      <td>2.195000</td>\n",
       "      <td>42.900000</td>\n",
       "      <td>2.000000</td>\n",
       "      <td>3.000000</td>\n",
       "    </tr>\n",
       "    <tr>\n",
       "      <th>50%</th>\n",
       "      <td>2012.000000</td>\n",
       "      <td>4.155000</td>\n",
       "      <td>62.400000</td>\n",
       "      <td>4.000000</td>\n",
       "      <td>4.000000</td>\n",
       "    </tr>\n",
       "    <tr>\n",
       "      <th>75%</th>\n",
       "      <td>2013.500000</td>\n",
       "      <td>5.767500</td>\n",
       "      <td>75.200000</td>\n",
       "      <td>4.000000</td>\n",
       "      <td>4.000000</td>\n",
       "    </tr>\n",
       "    <tr>\n",
       "      <th>max</th>\n",
       "      <td>2014.000000</td>\n",
       "      <td>13.000000</td>\n",
       "      <td>86.400000</td>\n",
       "      <td>5.000000</td>\n",
       "      <td>5.000000</td>\n",
       "    </tr>\n",
       "  </tbody>\n",
       "</table>\n",
       "</div>"
      ],
      "text/plain": [
       "              Year  AvgCigarettePriceDollars  AvgTaxesAsPctCigarettePrice  \\\n",
       "count   774.000000                208.000000                   209.000000   \n",
       "mean   2010.755814                  4.336394                    57.339234   \n",
       "std       2.587373                  2.534659                    20.403278   \n",
       "min    2007.000000                  0.000000                     0.000000   \n",
       "25%    2010.000000                  2.195000                    42.900000   \n",
       "50%    2012.000000                  4.155000                    62.400000   \n",
       "75%    2013.500000                  5.767500                    75.200000   \n",
       "max    2014.000000                 13.000000                    86.400000   \n",
       "\n",
       "       EnforceBansTobaccoAd  HelpToQuit  \n",
       "count            774.000000  774.000000  \n",
       "mean               3.313953    3.493540  \n",
       "std                1.088995    0.807042  \n",
       "min                2.000000    1.000000  \n",
       "25%                2.000000    3.000000  \n",
       "50%                4.000000    4.000000  \n",
       "75%                4.000000    4.000000  \n",
       "max                5.000000    5.000000  "
      ]
     },
     "execution_count": 5,
     "metadata": {},
     "output_type": "execute_result"
    }
   ],
   "source": [
    "# We can check that total average for cigarette price is 4.3, \n",
    "# total average taxes is 57.3, Enforce ban tobacco advertising is 3.3\n",
    "# and Help to quit is 3.5\n",
    "stop_df.describe()"
   ]
  },
  {
   "cell_type": "code",
   "execution_count": 49,
   "id": "d6a5f384",
   "metadata": {},
   "outputs": [
    {
     "data": {
      "text/html": [
       "<div>\n",
       "<style scoped>\n",
       "    .dataframe tbody tr th:only-of-type {\n",
       "        vertical-align: middle;\n",
       "    }\n",
       "\n",
       "    .dataframe tbody tr th {\n",
       "        vertical-align: top;\n",
       "    }\n",
       "\n",
       "    .dataframe thead th {\n",
       "        text-align: right;\n",
       "    }\n",
       "</style>\n",
       "<table border=\"1\" class=\"dataframe\">\n",
       "  <thead>\n",
       "    <tr style=\"text-align: right;\">\n",
       "      <th></th>\n",
       "      <th>AvgCigarettePriceDollars</th>\n",
       "      <th>AvgTaxesAsPctCigarettePrice</th>\n",
       "      <th>EnforceBansTobaccoAd</th>\n",
       "      <th>HelpToQuit</th>\n",
       "    </tr>\n",
       "  </thead>\n",
       "  <tbody>\n",
       "    <tr>\n",
       "      <th>count</th>\n",
       "      <td>208.00</td>\n",
       "      <td>209.00</td>\n",
       "      <td>774.00</td>\n",
       "      <td>774.00</td>\n",
       "    </tr>\n",
       "    <tr>\n",
       "      <th>mean</th>\n",
       "      <td>4.34</td>\n",
       "      <td>57.34</td>\n",
       "      <td>3.31</td>\n",
       "      <td>3.49</td>\n",
       "    </tr>\n",
       "    <tr>\n",
       "      <th>std</th>\n",
       "      <td>2.53</td>\n",
       "      <td>20.40</td>\n",
       "      <td>1.09</td>\n",
       "      <td>0.81</td>\n",
       "    </tr>\n",
       "    <tr>\n",
       "      <th>min</th>\n",
       "      <td>0.00</td>\n",
       "      <td>0.00</td>\n",
       "      <td>2.00</td>\n",
       "      <td>1.00</td>\n",
       "    </tr>\n",
       "    <tr>\n",
       "      <th>25%</th>\n",
       "      <td>2.20</td>\n",
       "      <td>42.90</td>\n",
       "      <td>2.00</td>\n",
       "      <td>3.00</td>\n",
       "    </tr>\n",
       "    <tr>\n",
       "      <th>50%</th>\n",
       "      <td>4.16</td>\n",
       "      <td>62.40</td>\n",
       "      <td>4.00</td>\n",
       "      <td>4.00</td>\n",
       "    </tr>\n",
       "    <tr>\n",
       "      <th>75%</th>\n",
       "      <td>5.77</td>\n",
       "      <td>75.20</td>\n",
       "      <td>4.00</td>\n",
       "      <td>4.00</td>\n",
       "    </tr>\n",
       "    <tr>\n",
       "      <th>max</th>\n",
       "      <td>13.00</td>\n",
       "      <td>86.40</td>\n",
       "      <td>5.00</td>\n",
       "      <td>5.00</td>\n",
       "    </tr>\n",
       "  </tbody>\n",
       "</table>\n",
       "</div>"
      ],
      "text/plain": [
       "       AvgCigarettePriceDollars  AvgTaxesAsPctCigarettePrice  \\\n",
       "count                    208.00                       209.00   \n",
       "mean                       4.34                        57.34   \n",
       "std                        2.53                        20.40   \n",
       "min                        0.00                         0.00   \n",
       "25%                        2.20                        42.90   \n",
       "50%                        4.16                        62.40   \n",
       "75%                        5.77                        75.20   \n",
       "max                       13.00                        86.40   \n",
       "\n",
       "       EnforceBansTobaccoAd  HelpToQuit  \n",
       "count                774.00      774.00  \n",
       "mean                   3.31        3.49  \n",
       "std                    1.09        0.81  \n",
       "min                    2.00        1.00  \n",
       "25%                    2.00        3.00  \n",
       "50%                    4.00        4.00  \n",
       "75%                    4.00        4.00  \n",
       "max                    5.00        5.00  "
      ]
     },
     "execution_count": 49,
     "metadata": {},
     "output_type": "execute_result"
    }
   ],
   "source": [
    "round(stop_df[['AvgCigarettePriceDollars', 'AvgTaxesAsPctCigarettePrice', 'EnforceBansTobaccoAd', 'HelpToQuit']].describe(),2)"
   ]
  },
  {
   "cell_type": "code",
   "execution_count": 7,
   "id": "c85f7162",
   "metadata": {},
   "outputs": [],
   "source": [
    "# Trend as MPOWER by all means are increasing by yearly basis\n",
    "\n",
    "e_2007, h_2007 = stop_df[stop_df['Year']==2007][['EnforceBansTobaccoAd', 'HelpToQuit']].mean()\n",
    "e_2010, h_2010 = stop_df[stop_df['Year']==2010][['EnforceBansTobaccoAd', 'HelpToQuit']].mean()\n",
    "e_2012, h_2012 = stop_df[stop_df['Year']==2012][['EnforceBansTobaccoAd', 'HelpToQuit']].mean()\n",
    "e_2014, h_2014 = stop_df[stop_df['Year']==2014][['EnforceBansTobaccoAd', 'HelpToQuit']].mean()\n",
    "\n",
    "p_2012, t_2012 = stop_df[stop_df['Year']==2012][['AvgCigarettePriceDollars', 'AvgTaxesAsPctCigarettePrice']].mean()\n",
    "p_2014, t_2014 = stop_df[stop_df['Year']==2014][['AvgCigarettePriceDollars', 'AvgTaxesAsPctCigarettePrice']].mean()\n",
    "\n",
    "enforce_trend = [e_2007,e_2010,e_2012,e_2014]\n",
    "help_trend = [h_2007,h_2010,h_2012,h_2014]\n",
    "price_trend = [p_2012,p_2014]\n",
    "tax_trend = [t_2012,t_2014]"
   ]
  },
  {
   "cell_type": "code",
   "execution_count": 8,
   "id": "f34e0995",
   "metadata": {},
   "outputs": [
    {
     "data": {
      "image/png": "[encoded data removed]",
      "text/plain": [
       "<Figure size 432x288 with 1 Axes>"
      ]
     },
     "metadata": {
      "needs_background": "light"
     },
     "output_type": "display_data"
    }
   ],
   "source": [
    "plt.figure(figsize=(6,4))\n",
    "\n",
    "plt.plot(enforce_trend, help_trend, label='Score')\n",
    "plt.xlabel(\"enforce trend\", fontsize=18)\n",
    "plt.xticks(fontsize=16)\n",
    "plt.ylabel(\"help trend\", fontsize=18)\n",
    "plt.yticks(fontsize=16)\n",
    "plt.title(\"MPOWER trend analysis: Enforce-Help\", fontsize=18)\n",
    "plt.legend(fontsize=18, frameon=True)\n",
    "\n",
    "plt.show()"
   ]
  },
  {
   "cell_type": "code",
   "execution_count": 9,
   "id": "68f98b17",
   "metadata": {
    "scrolled": true
   },
   "outputs": [
    {
     "data": {
      "image/png": "[encoded data removed]",
      "text/plain": [
       "<Figure size 432x288 with 1 Axes>"
      ]
     },
     "metadata": {
      "needs_background": "light"
     },
     "output_type": "display_data"
    }
   ],
   "source": [
    "plt.figure(figsize=(6,4))\n",
    "\n",
    "plt.plot(price_trend, tax_trend, label='Price')\n",
    "plt.xlabel(\"price trend\", fontsize=18)\n",
    "plt.xticks(fontsize=16)\n",
    "plt.ylabel(\"tax trend\", fontsize=18)\n",
    "plt.yticks(fontsize=16)\n",
    "plt.title(\"MPOWER trend analysis: Tobacco price- Tobacco Tax price\", fontsize=14)\n",
    "plt.legend(fontsize=18, frameon=True)\n",
    "\n",
    "plt.show()"
   ]
  },
  {
   "cell_type": "code",
   "execution_count": 10,
   "id": "729dc4f2",
   "metadata": {},
   "outputs": [
    {
     "data": {
      "text/html": [
       "<div>\n",
       "<style scoped>\n",
       "    .dataframe tbody tr th:only-of-type {\n",
       "        vertical-align: middle;\n",
       "    }\n",
       "\n",
       "    .dataframe tbody tr th {\n",
       "        vertical-align: top;\n",
       "    }\n",
       "\n",
       "    .dataframe thead th {\n",
       "        text-align: right;\n",
       "    }\n",
       "</style>\n",
       "<table border=\"1\" class=\"dataframe\">\n",
       "  <thead>\n",
       "    <tr style=\"text-align: right;\">\n",
       "      <th></th>\n",
       "      <th>Entity</th>\n",
       "      <th>Year</th>\n",
       "      <th>EnforceBansTobaccoAd</th>\n",
       "      <th>HelpToQuit</th>\n",
       "    </tr>\n",
       "  </thead>\n",
       "  <tbody>\n",
       "    <tr>\n",
       "      <th>24</th>\n",
       "      <td>Brazil</td>\n",
       "      <td>2012</td>\n",
       "      <td>5</td>\n",
       "      <td>5</td>\n",
       "    </tr>\n",
       "    <tr>\n",
       "      <th>25</th>\n",
       "      <td>Brazil</td>\n",
       "      <td>2014</td>\n",
       "      <td>5</td>\n",
       "      <td>5</td>\n",
       "    </tr>\n",
       "    <tr>\n",
       "      <th>87</th>\n",
       "      <td>Iran</td>\n",
       "      <td>2012</td>\n",
       "      <td>5</td>\n",
       "      <td>5</td>\n",
       "    </tr>\n",
       "    <tr>\n",
       "      <th>88</th>\n",
       "      <td>Iran</td>\n",
       "      <td>2014</td>\n",
       "      <td>5</td>\n",
       "      <td>5</td>\n",
       "    </tr>\n",
       "    <tr>\n",
       "      <th>137</th>\n",
       "      <td>Panama</td>\n",
       "      <td>2012</td>\n",
       "      <td>5</td>\n",
       "      <td>5</td>\n",
       "    </tr>\n",
       "    <tr>\n",
       "      <th>138</th>\n",
       "      <td>Panama</td>\n",
       "      <td>2014</td>\n",
       "      <td>5</td>\n",
       "      <td>5</td>\n",
       "    </tr>\n",
       "    <tr>\n",
       "      <th>183</th>\n",
       "      <td>Turkey</td>\n",
       "      <td>2012</td>\n",
       "      <td>5</td>\n",
       "      <td>5</td>\n",
       "    </tr>\n",
       "    <tr>\n",
       "      <th>184</th>\n",
       "      <td>Turkey</td>\n",
       "      <td>2014</td>\n",
       "      <td>5</td>\n",
       "      <td>5</td>\n",
       "    </tr>\n",
       "    <tr>\n",
       "      <th>190</th>\n",
       "      <td>United Arab Emirates</td>\n",
       "      <td>2014</td>\n",
       "      <td>5</td>\n",
       "      <td>5</td>\n",
       "    </tr>\n",
       "    <tr>\n",
       "      <th>196</th>\n",
       "      <td>Uruguay</td>\n",
       "      <td>2014</td>\n",
       "      <td>5</td>\n",
       "      <td>5</td>\n",
       "    </tr>\n",
       "  </tbody>\n",
       "</table>\n",
       "</div>"
      ],
      "text/plain": [
       "                   Entity  Year  EnforceBansTobaccoAd  HelpToQuit\n",
       "24                 Brazil  2012                     5           5\n",
       "25                 Brazil  2014                     5           5\n",
       "87                   Iran  2012                     5           5\n",
       "88                   Iran  2014                     5           5\n",
       "137                Panama  2012                     5           5\n",
       "138                Panama  2014                     5           5\n",
       "183                Turkey  2012                     5           5\n",
       "184                Turkey  2014                     5           5\n",
       "190  United Arab Emirates  2014                     5           5\n",
       "196               Uruguay  2014                     5           5"
      ]
     },
     "execution_count": 10,
     "metadata": {},
     "output_type": "execute_result"
    }
   ],
   "source": [
    "# Top countries that are putting much effort in MPOWER(Enforce ban, Help to quit)\n",
    "# Brazil, Iran, Panama, Turkey, United Arab Emirates, Uruguay\n",
    "stop_df[stop_df['EnforceBansTobaccoAd'] == 5][stop_df['HelpToQuit'] == 5][['Entity', 'Year', 'EnforceBansTobaccoAd', 'HelpToQuit']][:10]"
   ]
  },
  {
   "cell_type": "code",
   "execution_count": 11,
   "id": "003f7197",
   "metadata": {},
   "outputs": [
    {
     "data": {
      "text/plain": [
       "array(['Brazil', 'Iran', 'Panama', 'Turkey', 'United Arab Emirates',\n",
       "       'Uruguay'], dtype=object)"
      ]
     },
     "execution_count": 11,
     "metadata": {},
     "output_type": "execute_result"
    }
   ],
   "source": [
    "stop_df[stop_df['EnforceBansTobaccoAd'] == 5][stop_df['HelpToQuit'] == 5]['Entity'].unique()"
   ]
  },
  {
   "cell_type": "code",
   "execution_count": 12,
   "id": "7674a140",
   "metadata": {},
   "outputs": [
    {
     "data": {
      "text/html": [
       "<div>\n",
       "<style scoped>\n",
       "    .dataframe tbody tr th:only-of-type {\n",
       "        vertical-align: middle;\n",
       "    }\n",
       "\n",
       "    .dataframe tbody tr th {\n",
       "        vertical-align: top;\n",
       "    }\n",
       "\n",
       "    .dataframe thead th {\n",
       "        text-align: right;\n",
       "    }\n",
       "</style>\n",
       "<table border=\"1\" class=\"dataframe\">\n",
       "  <thead>\n",
       "    <tr style=\"text-align: right;\">\n",
       "      <th></th>\n",
       "      <th>Entity</th>\n",
       "      <th>Year</th>\n",
       "      <th>EnforceBansTobaccoAd</th>\n",
       "      <th>HelpToQuit</th>\n",
       "    </tr>\n",
       "  </thead>\n",
       "  <tbody>\n",
       "    <tr>\n",
       "      <th>28</th>\n",
       "      <td>Burundi</td>\n",
       "      <td>2014</td>\n",
       "      <td>2</td>\n",
       "      <td>2</td>\n",
       "    </tr>\n",
       "    <tr>\n",
       "      <th>41</th>\n",
       "      <td>Comoros</td>\n",
       "      <td>2014</td>\n",
       "      <td>2</td>\n",
       "      <td>2</td>\n",
       "    </tr>\n",
       "    <tr>\n",
       "      <th>151</th>\n",
       "      <td>Rwanda</td>\n",
       "      <td>2014</td>\n",
       "      <td>2</td>\n",
       "      <td>2</td>\n",
       "    </tr>\n",
       "    <tr>\n",
       "      <th>159</th>\n",
       "      <td>Sierra Leone</td>\n",
       "      <td>2014</td>\n",
       "      <td>2</td>\n",
       "      <td>2</td>\n",
       "    </tr>\n",
       "    <tr>\n",
       "      <th>265</th>\n",
       "      <td>Bhutan</td>\n",
       "      <td>2007</td>\n",
       "      <td>2</td>\n",
       "      <td>2</td>\n",
       "    </tr>\n",
       "    <tr>\n",
       "      <th>289</th>\n",
       "      <td>Burundi</td>\n",
       "      <td>2007</td>\n",
       "      <td>2</td>\n",
       "      <td>2</td>\n",
       "    </tr>\n",
       "    <tr>\n",
       "      <th>290</th>\n",
       "      <td>Burundi</td>\n",
       "      <td>2010</td>\n",
       "      <td>2</td>\n",
       "      <td>2</td>\n",
       "    </tr>\n",
       "    <tr>\n",
       "      <th>291</th>\n",
       "      <td>Burundi</td>\n",
       "      <td>2012</td>\n",
       "      <td>2</td>\n",
       "      <td>2</td>\n",
       "    </tr>\n",
       "    <tr>\n",
       "      <th>316</th>\n",
       "      <td>Comoros</td>\n",
       "      <td>2007</td>\n",
       "      <td>2</td>\n",
       "      <td>2</td>\n",
       "    </tr>\n",
       "    <tr>\n",
       "      <th>318</th>\n",
       "      <td>Comoros</td>\n",
       "      <td>2012</td>\n",
       "      <td>2</td>\n",
       "      <td>2</td>\n",
       "    </tr>\n",
       "  </tbody>\n",
       "</table>\n",
       "</div>"
      ],
      "text/plain": [
       "           Entity  Year  EnforceBansTobaccoAd  HelpToQuit\n",
       "28        Burundi  2014                     2           2\n",
       "41        Comoros  2014                     2           2\n",
       "151        Rwanda  2014                     2           2\n",
       "159  Sierra Leone  2014                     2           2\n",
       "265        Bhutan  2007                     2           2\n",
       "289       Burundi  2007                     2           2\n",
       "290       Burundi  2010                     2           2\n",
       "291       Burundi  2012                     2           2\n",
       "316       Comoros  2007                     2           2\n",
       "318       Comoros  2012                     2           2"
      ]
     },
     "execution_count": 12,
     "metadata": {},
     "output_type": "execute_result"
    }
   ],
   "source": [
    "# Bottom countries that are putting much effort in MPOWER(Enforce ban, Help to quit)\n",
    "# Burundi, Comoros, Rwanda, Sierra Leone, Bhutan\n",
    "stop_df[stop_df['EnforceBansTobaccoAd'] == 2][stop_df['HelpToQuit'] == 2][['Entity', 'Year', 'EnforceBansTobaccoAd', 'HelpToQuit']][:10]"
   ]
  },
  {
   "cell_type": "code",
   "execution_count": 13,
   "id": "8800dd29",
   "metadata": {},
   "outputs": [
    {
     "data": {
      "text/plain": [
       "array(['Burundi', 'Comoros', 'Rwanda', 'Sierra Leone', 'Bhutan'],\n",
       "      dtype=object)"
      ]
     },
     "execution_count": 13,
     "metadata": {},
     "output_type": "execute_result"
    }
   ],
   "source": [
    "stop_df[stop_df['EnforceBansTobaccoAd'] == 2][stop_df['HelpToQuit'] == 2][['Entity', 'Year', 'EnforceBansTobaccoAd', 'HelpToQuit']][:10]['Entity'].unique()"
   ]
  },
  {
   "cell_type": "markdown",
   "id": "6ed3f65c",
   "metadata": {},
   "source": [
    "## Result side: usage worldwide\n",
    "\n",
    "### - Overall usage is decreasing for both genders"
   ]
  },
  {
   "cell_type": "code",
   "execution_count": 14,
   "id": "140cbf7d",
   "metadata": {
    "scrolled": true
   },
   "outputs": [
    {
     "data": {
      "text/html": [
       "<div>\n",
       "<style scoped>\n",
       "    .dataframe tbody tr th:only-of-type {\n",
       "        vertical-align: middle;\n",
       "    }\n",
       "\n",
       "    .dataframe tbody tr th {\n",
       "        vertical-align: top;\n",
       "    }\n",
       "\n",
       "    .dataframe thead th {\n",
       "        text-align: right;\n",
       "    }\n",
       "</style>\n",
       "<table border=\"1\" class=\"dataframe\">\n",
       "  <thead>\n",
       "    <tr style=\"text-align: right;\">\n",
       "      <th></th>\n",
       "      <th>ParentLocationCode</th>\n",
       "      <th>ParentLocation</th>\n",
       "      <th>SpatialDimValueCode</th>\n",
       "      <th>Location</th>\n",
       "      <th>Year</th>\n",
       "      <th>Gender</th>\n",
       "      <th>Value</th>\n",
       "    </tr>\n",
       "  </thead>\n",
       "  <tbody>\n",
       "    <tr>\n",
       "      <th>0</th>\n",
       "      <td>SEAR</td>\n",
       "      <td>South-East Asia</td>\n",
       "      <td>PRK</td>\n",
       "      <td>Democratic People's Republic of Korea</td>\n",
       "      <td>2018</td>\n",
       "      <td>Female</td>\n",
       "      <td>0.0</td>\n",
       "    </tr>\n",
       "    <tr>\n",
       "      <th>1</th>\n",
       "      <td>EUR</td>\n",
       "      <td>Europe</td>\n",
       "      <td>AZE</td>\n",
       "      <td>Azerbaijan</td>\n",
       "      <td>2018</td>\n",
       "      <td>Female</td>\n",
       "      <td>0.2</td>\n",
       "    </tr>\n",
       "    <tr>\n",
       "      <th>2</th>\n",
       "      <td>AFR</td>\n",
       "      <td>Africa</td>\n",
       "      <td>ERI</td>\n",
       "      <td>Eritrea</td>\n",
       "      <td>2018</td>\n",
       "      <td>Female</td>\n",
       "      <td>0.3</td>\n",
       "    </tr>\n",
       "  </tbody>\n",
       "</table>\n",
       "</div>"
      ],
      "text/plain": [
       "  ParentLocationCode   ParentLocation SpatialDimValueCode  \\\n",
       "0               SEAR  South-East Asia                 PRK   \n",
       "1                EUR           Europe                 AZE   \n",
       "2                AFR           Africa                 ERI   \n",
       "\n",
       "                                Location  Year  Gender  Value  \n",
       "0  Democratic People's Republic of Korea  2018  Female    0.0  \n",
       "1                             Azerbaijan  2018  Female    0.2  \n",
       "2                                Eritrea  2018  Female    0.3  "
      ]
     },
     "execution_count": 14,
     "metadata": {},
     "output_type": "execute_result"
    }
   ],
   "source": [
    "use_ww_df.head(3)"
   ]
  },
  {
   "cell_type": "code",
   "execution_count": 15,
   "id": "c8050ccb",
   "metadata": {},
   "outputs": [
    {
     "data": {
      "text/plain": [
       "2000    447\n",
       "2005    447\n",
       "2010    447\n",
       "2013    447\n",
       "2014    447\n",
       "2015    447\n",
       "2016    447\n",
       "2017    447\n",
       "2018    447\n",
       "Name: Year, dtype: int64"
      ]
     },
     "execution_count": 15,
     "metadata": {},
     "output_type": "execute_result"
    }
   ],
   "source": [
    "# We have 2000, 2005, 2010, 2013~2018 results \n",
    "# MPOWER dataset has 2007, 2010, 2012, and 2014 data \n",
    "# If we consolidate both columns, we may only have 2010, 2014 dataset \n",
    "\n",
    "use_ww_df['Year'].value_counts().sort_index()"
   ]
  },
  {
   "cell_type": "code",
   "execution_count": 16,
   "id": "58e15b76",
   "metadata": {},
   "outputs": [],
   "source": [
    "year_index = use_ww_df['Year'].value_counts().sort_index().index"
   ]
  },
  {
   "cell_type": "code",
   "execution_count": 17,
   "id": "e83740e9",
   "metadata": {},
   "outputs": [
    {
     "data": {
      "text/plain": [
       "[31.03624161073825,\n",
       " 27.995302013422815,\n",
       " 25.416778523489924,\n",
       " 24.10402684563759,\n",
       " 23.698657718120792,\n",
       " 23.31006711409396,\n",
       " 22.919463087248317,\n",
       " 22.56778523489933,\n",
       " 22.218791946308716]"
      ]
     },
     "execution_count": 17,
     "metadata": {},
     "output_type": "execute_result"
    }
   ],
   "source": [
    "usage_both_trend = []\n",
    "\n",
    "for year in year_index:\n",
    "    y_both = use_ww_df[use_ww_df['Gender'] =='Both sexes'][use_ww_df['Year'] == year]['Value'].mean()\n",
    "    usage_both_trend.append(y_both)\n",
    "\n",
    "usage_both_trend"
   ]
  },
  {
   "cell_type": "code",
   "execution_count": 18,
   "id": "ec1be66f",
   "metadata": {},
   "outputs": [
    {
     "data": {
      "text/plain": [
       "[43.62885906040266,\n",
       " 40.0228187919463,\n",
       " 36.869798657718114,\n",
       " 35.195973154362406,\n",
       " 34.68456375838927,\n",
       " 34.181879194630866,\n",
       " 33.67651006711409,\n",
       " 33.21140939597316,\n",
       " 32.76375838926175]"
      ]
     },
     "execution_count": 18,
     "metadata": {},
     "output_type": "execute_result"
    }
   ],
   "source": [
    "usage_male_trend = []\n",
    "\n",
    "for year in year_index:\n",
    "    y_both = use_ww_df[use_ww_df['Gender'] =='Male'][use_ww_df['Year'] == year]['Value'].mean()\n",
    "    usage_male_trend.append(y_both)\n",
    "\n",
    "usage_male_trend"
   ]
  },
  {
   "cell_type": "code",
   "execution_count": 19,
   "id": "8740e10f",
   "metadata": {},
   "outputs": [
    {
     "data": {
      "text/plain": [
       "[18.4469798657718,\n",
       " 15.96644295302014,\n",
       " 13.969798657718117,\n",
       " 13.008724832214764,\n",
       " 12.706040268456377,\n",
       " 12.435570469798655,\n",
       " 12.163758389261739,\n",
       " 11.919463087248321,\n",
       " 11.673825503355706]"
      ]
     },
     "execution_count": 19,
     "metadata": {},
     "output_type": "execute_result"
    }
   ],
   "source": [
    "usage_female_trend = []\n",
    "\n",
    "for year in year_index:\n",
    "    y_both = use_ww_df[use_ww_df['Gender'] =='Female'][use_ww_df['Year'] == year]['Value'].mean()\n",
    "    usage_female_trend.append(y_both)\n",
    "\n",
    "usage_female_trend"
   ]
  },
  {
   "cell_type": "code",
   "execution_count": 20,
   "id": "89ea1d52",
   "metadata": {},
   "outputs": [
    {
     "data": {
      "image/png": "[encoded data removed]",
      "text/plain": [
       "<Figure size 432x288 with 1 Axes>"
      ]
     },
     "metadata": {
      "needs_background": "light"
     },
     "output_type": "display_data"
    }
   ],
   "source": [
    "plt.figure(figsize=(6,4))\n",
    "\n",
    "\n",
    "plt.plot(year_index, usage_both_trend, label='Percentage')\n",
    "\n",
    "\n",
    "plt.xlabel(\"year trend\", fontsize=18)\n",
    "plt.xticks(fontsize=16)\n",
    "plt.ylabel(\"usage trend\", fontsize=18)\n",
    "plt.yticks(fontsize=16)\n",
    "plt.title(\"Usage trend analysis: Both sexes\", fontsize=18)\n",
    "plt.legend(fontsize=18, frameon=True)\n",
    "\n",
    "plt.show()"
   ]
  },
  {
   "cell_type": "code",
   "execution_count": null,
   "id": "8c674081",
   "metadata": {},
   "outputs": [],
   "source": []
  },
  {
   "cell_type": "code",
   "execution_count": 21,
   "id": "7fdd024d",
   "metadata": {},
   "outputs": [
    {
     "data": {
      "image/png": "[encoded data removed]",
      "text/plain": [
       "<Figure size 432x288 with 1 Axes>"
      ]
     },
     "metadata": {
      "needs_background": "light"
     },
     "output_type": "display_data"
    }
   ],
   "source": [
    "plt.figure(figsize=(6,4))\n",
    "\n",
    "\n",
    "plt.plot(year_index, usage_male_trend, label='Percentage')\n",
    "plt.xlabel(\"year trend\", fontsize=18)\n",
    "plt.xticks(fontsize=16)\n",
    "plt.ylabel(\"usage trend\", fontsize=18)\n",
    "plt.yticks(fontsize=16)\n",
    "plt.title(\"Usage trend analysis: Male\", fontsize=18)\n",
    "plt.legend(fontsize=18, frameon=True)\n",
    "\n",
    "plt.show()"
   ]
  },
  {
   "cell_type": "code",
   "execution_count": 22,
   "id": "7b8267cf",
   "metadata": {
    "scrolled": true
   },
   "outputs": [
    {
     "data": {
      "image/png": "[encoded data removed]",
      "text/plain": [
       "<Figure size 432x288 with 1 Axes>"
      ]
     },
     "metadata": {
      "needs_background": "light"
     },
     "output_type": "display_data"
    }
   ],
   "source": [
    "plt.figure(figsize=(6,4))\n",
    "\n",
    "plt.plot(year_index, usage_female_trend, label='Percentage')\n",
    "plt.xlabel(\"year trend\", fontsize=18)\n",
    "plt.xticks(fontsize=16)\n",
    "plt.ylabel(\"usage trend\", fontsize=18)\n",
    "plt.yticks(fontsize=16)\n",
    "plt.title(\"Usage trend analysis: Female\", fontsize=18)\n",
    "plt.legend(fontsize=18, frameon=True)\n",
    "\n",
    "plt.show()"
   ]
  },
  {
   "cell_type": "code",
   "execution_count": 53,
   "id": "7e94b320",
   "metadata": {},
   "outputs": [
    {
     "data": {
      "image/png": "[encoded data removed]",
      "text/plain": [
       "<Figure size 720x576 with 1 Axes>"
      ]
     },
     "metadata": {
      "needs_background": "light"
     },
     "output_type": "display_data"
    }
   ],
   "source": [
    "plt.figure(figsize=(10,8))\n",
    "\n",
    "plt.plot(year_index, usage_both_trend, label='Both(percentage)')\n",
    "plt.plot(year_index, usage_male_trend, label='Male(percentage)')\n",
    "plt.plot(year_index, usage_female_trend, label='Female(percentage)')\n",
    "\n",
    "plt.xlabel(\"year trend\", fontsize=18)\n",
    "plt.xticks(fontsize=16)\n",
    "plt.ylabel(\"usage trend\", fontsize=18)\n",
    "plt.yticks(fontsize=16)\n",
    "plt.title(\"Usage trend analysis\", fontsize=18)\n",
    "plt.legend(fontsize=14, frameon=True)\n",
    "\n",
    "plt.show()"
   ]
  },
  {
   "cell_type": "code",
   "execution_count": null,
   "id": "90b1670e",
   "metadata": {},
   "outputs": [],
   "source": []
  },
  {
   "cell_type": "code",
   "execution_count": null,
   "id": "6746b440",
   "metadata": {},
   "outputs": [],
   "source": []
  },
  {
   "cell_type": "code",
   "execution_count": 23,
   "id": "2eccee3a",
   "metadata": {
    "scrolled": true
   },
   "outputs": [],
   "source": [
    "# Countries that are not trending \n",
    "# Egypt, Niger, Congo, Portugal, Moldoba, Slovakia, Lesotho, Croatia\n",
    "\n",
    "# plt.figure(figsize=(6,4))\n",
    "\n",
    "# for cty in use_ww_df['Location'].unique():\n",
    "#     year = use_ww_df[use_ww_df['Gender'] =='Both sexes'][use_ww_df['Location'] == cty].sort_values(by='Year')['Year']\n",
    "#     value = use_ww_df[use_ww_df['Gender'] =='Both sexes'][use_ww_df['Location'] == cty].sort_values(by='Year')['Value']\n",
    "\n",
    "#     plt.plot(year, value, label='Percentage')\n",
    "#     plt.xlabel(\"year trend\", fontsize=18)\n",
    "#     plt.xticks(fontsize=16)\n",
    "#     plt.ylabel(\"usage trend\", fontsize=18)\n",
    "#     plt.yticks(fontsize=16)\n",
    "#     plt.title(\"Usage trend: {0}\".format(cty), fontsize=16)\n",
    "#     plt.legend(fontsize=18, frameon=True)\n",
    "#     plt.show()"
   ]
  },
  {
   "cell_type": "code",
   "execution_count": 24,
   "id": "e54dd693",
   "metadata": {},
   "outputs": [
    {
     "data": {
      "text/plain": [
       "3671    2000\n",
       "3242    2005\n",
       "2804    2010\n",
       "2364    2013\n",
       "1929    2014\n",
       "1487    2015\n",
       "1041    2016\n",
       "600     2017\n",
       "158     2018\n",
       "Name: Year, dtype: int64"
      ]
     },
     "execution_count": 24,
     "metadata": {},
     "output_type": "execute_result"
    }
   ],
   "source": [
    "use_ww_df[use_ww_df['Gender'] =='Both sexes'][use_ww_df['Location'] == 'Egypt'].sort_values(by='Year')['Year'].astype('int')"
   ]
  },
  {
   "cell_type": "code",
   "execution_count": 25,
   "id": "b758686d",
   "metadata": {},
   "outputs": [],
   "source": [
    "e_year = use_ww_df[use_ww_df['Gender'] =='Both sexes'][use_ww_df['Location'] == 'Egypt'].sort_values(by='Year')['Year'].astype('int')\n",
    "e_value = use_ww_df[use_ww_df['Gender'] =='Both sexes'][use_ww_df['Location'] == 'Egypt'].sort_values(by='Year')['Value']\n",
    "\n",
    "n_year = use_ww_df[use_ww_df['Gender'] =='Both sexes'][use_ww_df['Location'] == 'Niger'].sort_values(by='Year')['Year'].astype('int')\n",
    "n_value = use_ww_df[use_ww_df['Gender'] =='Both sexes'][use_ww_df['Location'] == 'Niger'].sort_values(by='Year')['Value']\n",
    "\n",
    "c_year = use_ww_df[use_ww_df['Gender'] =='Both sexes'][use_ww_df['Location'] == 'Congo'].sort_values(by='Year')['Year'].astype('int')\n",
    "c_value = use_ww_df[use_ww_df['Gender'] =='Both sexes'][use_ww_df['Location'] == 'Congo'].sort_values(by='Year')['Value']\n",
    "\n",
    "p_year = use_ww_df[use_ww_df['Gender'] =='Both sexes'][use_ww_df['Location'] == 'Portugal'].sort_values(by='Year')['Year'].astype('int')\n",
    "p_value = use_ww_df[use_ww_df['Gender'] =='Both sexes'][use_ww_df['Location'] == 'Portugal'].sort_values(by='Year')['Value']\n",
    "\n",
    "m_year = use_ww_df[use_ww_df['Gender'] =='Both sexes'][use_ww_df['Location'] == 'Moldoba'].sort_values(by='Year')['Year'].astype('int')\n",
    "m_value = use_ww_df[use_ww_df['Gender'] =='Both sexes'][use_ww_df['Location'] == 'Moldoba'].sort_values(by='Year')['Value']\n",
    "\n",
    "s_year = use_ww_df[use_ww_df['Gender'] =='Both sexes'][use_ww_df['Location'] == 'Slovakia'].sort_values(by='Year')['Year'].astype('int')\n",
    "s_value = use_ww_df[use_ww_df['Gender'] =='Both sexes'][use_ww_df['Location'] == 'Slovakia'].sort_values(by='Year')['Value']\n",
    "\n",
    "l_year = use_ww_df[use_ww_df['Gender'] =='Both sexes'][use_ww_df['Location'] == 'Lesotho'].sort_values(by='Year')['Year'].astype('int')\n",
    "l_value = use_ww_df[use_ww_df['Gender'] =='Both sexes'][use_ww_df['Location'] == 'Lesotho'].sort_values(by='Year')['Value']\n",
    "\n",
    "cr_year = use_ww_df[use_ww_df['Gender'] =='Both sexes'][use_ww_df['Location'] == 'Croatia'].sort_values(by='Year')['Year'].astype('int')\n",
    "cr_value = use_ww_df[use_ww_df['Gender'] =='Both sexes'][use_ww_df['Location'] == 'Croatia'].sort_values(by='Year')['Value']\n",
    "\n",
    "\n"
   ]
  },
  {
   "cell_type": "code",
   "execution_count": 26,
   "id": "8c07dd07",
   "metadata": {
    "scrolled": false
   },
   "outputs": [
    {
     "data": {
      "image/png": "[encoded data removed]",
      "text/plain": [
       "<Figure size 1152x648 with 1 Axes>"
      ]
     },
     "metadata": {
      "needs_background": "light"
     },
     "output_type": "display_data"
    }
   ],
   "source": [
    "plt.figure(figsize=(16,9))\n",
    "\n",
    "plt.plot(e_year, e_value, label='Eygpt')\n",
    "plt.plot(n_year, n_value, label='Niger')\n",
    "plt.plot(p_year, p_value, label='Portugal')\n",
    "plt.plot(m_year, m_value, label='Moldoba')\n",
    "plt.plot(s_year, s_value, label='Slovakia')\n",
    "plt.plot(l_year, l_value, label='Lesotho')\n",
    "plt.plot(cr_year, cr_value, label='Croatia')\n",
    "\n",
    "plt.xlabel(\"Year\", fontsize=18)\n",
    "plt.xticks([2000, 2005, 2010, 2015], fontsize=16)\n",
    "plt.ylabel(\"Usage\", fontsize=20)\n",
    "plt.yticks(fontsize=16)\n",
    "plt.title(\"Usage trend(by Country)\", fontsize=24)\n",
    "plt.legend(fontsize=18, frameon=True)\n",
    "plt.show()\n"
   ]
  },
  {
   "cell_type": "code",
   "execution_count": null,
   "id": "281f63bd",
   "metadata": {},
   "outputs": [],
   "source": []
  },
  {
   "cell_type": "code",
   "execution_count": null,
   "id": "5c1be1e8",
   "metadata": {},
   "outputs": [],
   "source": []
  },
  {
   "cell_type": "markdown",
   "id": "308472a4",
   "metadata": {},
   "source": [
    "## NULL Hypyothesis testing\n",
    "### - Hypothesis: If countries put high effort on MPOWER, then tobacco usage would be less than those who are not putting effort\n",
    "### - Null Hypothesis: Regardless of efforts in MPOWER, tobacco usage is same \n"
   ]
  },
  {
   "cell_type": "code",
   "execution_count": 27,
   "id": "591b6a29",
   "metadata": {},
   "outputs": [],
   "source": [
    "# merging two columns\n",
    "use_ww_df.rename(columns = {'Location' : 'Entity'}, inplace = True)"
   ]
  },
  {
   "cell_type": "code",
   "execution_count": 28,
   "id": "4257763f",
   "metadata": {},
   "outputs": [
    {
     "data": {
      "text/html": [
       "<div>\n",
       "<style scoped>\n",
       "    .dataframe tbody tr th:only-of-type {\n",
       "        vertical-align: middle;\n",
       "    }\n",
       "\n",
       "    .dataframe tbody tr th {\n",
       "        vertical-align: top;\n",
       "    }\n",
       "\n",
       "    .dataframe thead th {\n",
       "        text-align: right;\n",
       "    }\n",
       "</style>\n",
       "<table border=\"1\" class=\"dataframe\">\n",
       "  <thead>\n",
       "    <tr style=\"text-align: right;\">\n",
       "      <th></th>\n",
       "      <th>Entity</th>\n",
       "      <th>Code</th>\n",
       "      <th>Year</th>\n",
       "      <th>AvgCigarettePriceDollars</th>\n",
       "      <th>AvgTaxesAsPctCigarettePrice</th>\n",
       "      <th>EnforceBansTobaccoAd</th>\n",
       "      <th>HelpToQuit</th>\n",
       "      <th>ParentLocationCode</th>\n",
       "      <th>ParentLocation</th>\n",
       "      <th>SpatialDimValueCode</th>\n",
       "      <th>Gender</th>\n",
       "      <th>Value</th>\n",
       "    </tr>\n",
       "  </thead>\n",
       "  <tbody>\n",
       "    <tr>\n",
       "      <th>0</th>\n",
       "      <td>Algeria</td>\n",
       "      <td>DZA</td>\n",
       "      <td>2014</td>\n",
       "      <td>2.09</td>\n",
       "      <td>40.9</td>\n",
       "      <td>4</td>\n",
       "      <td>4</td>\n",
       "      <td>AFR</td>\n",
       "      <td>Africa</td>\n",
       "      <td>DZA</td>\n",
       "      <td>Female</td>\n",
       "      <td>1.6</td>\n",
       "    </tr>\n",
       "    <tr>\n",
       "      <th>1</th>\n",
       "      <td>Algeria</td>\n",
       "      <td>DZA</td>\n",
       "      <td>2014</td>\n",
       "      <td>2.09</td>\n",
       "      <td>40.9</td>\n",
       "      <td>4</td>\n",
       "      <td>4</td>\n",
       "      <td>AFR</td>\n",
       "      <td>Africa</td>\n",
       "      <td>DZA</td>\n",
       "      <td>Both sexes</td>\n",
       "      <td>19.4</td>\n",
       "    </tr>\n",
       "    <tr>\n",
       "      <th>2</th>\n",
       "      <td>Algeria</td>\n",
       "      <td>DZA</td>\n",
       "      <td>2014</td>\n",
       "      <td>2.09</td>\n",
       "      <td>40.9</td>\n",
       "      <td>4</td>\n",
       "      <td>4</td>\n",
       "      <td>AFR</td>\n",
       "      <td>Africa</td>\n",
       "      <td>DZA</td>\n",
       "      <td>Male</td>\n",
       "      <td>37.3</td>\n",
       "    </tr>\n",
       "  </tbody>\n",
       "</table>\n",
       "</div>"
      ],
      "text/plain": [
       "    Entity Code  Year  AvgCigarettePriceDollars  AvgTaxesAsPctCigarettePrice  \\\n",
       "0  Algeria  DZA  2014                      2.09                         40.9   \n",
       "1  Algeria  DZA  2014                      2.09                         40.9   \n",
       "2  Algeria  DZA  2014                      2.09                         40.9   \n",
       "\n",
       "   EnforceBansTobaccoAd  HelpToQuit ParentLocationCode ParentLocation  \\\n",
       "0                     4           4                AFR         Africa   \n",
       "1                     4           4                AFR         Africa   \n",
       "2                     4           4                AFR         Africa   \n",
       "\n",
       "  SpatialDimValueCode      Gender  Value  \n",
       "0                 DZA      Female    1.6  \n",
       "1                 DZA  Both sexes   19.4  \n",
       "2                 DZA        Male   37.3  "
      ]
     },
     "execution_count": 28,
     "metadata": {},
     "output_type": "execute_result"
    }
   ],
   "source": [
    "model_1_df = stop_df.merge(use_ww_df, on = ['Entity', 'Year'])\n",
    "model_1_df.head(3)"
   ]
  },
  {
   "cell_type": "code",
   "execution_count": 29,
   "id": "b86ecaf2",
   "metadata": {},
   "outputs": [
    {
     "data": {
      "text/html": [
       "<div>\n",
       "<style scoped>\n",
       "    .dataframe tbody tr th:only-of-type {\n",
       "        vertical-align: middle;\n",
       "    }\n",
       "\n",
       "    .dataframe tbody tr th {\n",
       "        vertical-align: top;\n",
       "    }\n",
       "\n",
       "    .dataframe thead th {\n",
       "        text-align: right;\n",
       "    }\n",
       "</style>\n",
       "<table border=\"1\" class=\"dataframe\">\n",
       "  <thead>\n",
       "    <tr style=\"text-align: right;\">\n",
       "      <th></th>\n",
       "      <th>Entity</th>\n",
       "      <th>Code</th>\n",
       "      <th>Year</th>\n",
       "      <th>AvgCigarettePriceDollars</th>\n",
       "      <th>AvgTaxesAsPctCigarettePrice</th>\n",
       "      <th>EnforceBansTobaccoAd</th>\n",
       "      <th>HelpToQuit</th>\n",
       "      <th>ParentLocationCode</th>\n",
       "      <th>ParentLocation</th>\n",
       "      <th>SpatialDimValueCode</th>\n",
       "      <th>Gender</th>\n",
       "      <th>Value</th>\n",
       "    </tr>\n",
       "  </thead>\n",
       "  <tbody>\n",
       "    <tr>\n",
       "      <th>1</th>\n",
       "      <td>Algeria</td>\n",
       "      <td>DZA</td>\n",
       "      <td>2014</td>\n",
       "      <td>2.09</td>\n",
       "      <td>40.9</td>\n",
       "      <td>4</td>\n",
       "      <td>4</td>\n",
       "      <td>AFR</td>\n",
       "      <td>Africa</td>\n",
       "      <td>DZA</td>\n",
       "      <td>Both sexes</td>\n",
       "      <td>19.4</td>\n",
       "    </tr>\n",
       "    <tr>\n",
       "      <th>4</th>\n",
       "      <td>Argentina</td>\n",
       "      <td>ARG</td>\n",
       "      <td>2014</td>\n",
       "      <td>3.47</td>\n",
       "      <td>69.7</td>\n",
       "      <td>4</td>\n",
       "      <td>5</td>\n",
       "      <td>AMR</td>\n",
       "      <td>Americas</td>\n",
       "      <td>ARG</td>\n",
       "      <td>Both sexes</td>\n",
       "      <td>25.6</td>\n",
       "    </tr>\n",
       "    <tr>\n",
       "      <th>7</th>\n",
       "      <td>Armenia</td>\n",
       "      <td>ARM</td>\n",
       "      <td>2014</td>\n",
       "      <td>1.74</td>\n",
       "      <td>44.1</td>\n",
       "      <td>2</td>\n",
       "      <td>4</td>\n",
       "      <td>EUR</td>\n",
       "      <td>Europe</td>\n",
       "      <td>ARM</td>\n",
       "      <td>Both sexes</td>\n",
       "      <td>28.3</td>\n",
       "    </tr>\n",
       "  </tbody>\n",
       "</table>\n",
       "</div>"
      ],
      "text/plain": [
       "      Entity Code  Year  AvgCigarettePriceDollars  \\\n",
       "1    Algeria  DZA  2014                      2.09   \n",
       "4  Argentina  ARG  2014                      3.47   \n",
       "7    Armenia  ARM  2014                      1.74   \n",
       "\n",
       "   AvgTaxesAsPctCigarettePrice  EnforceBansTobaccoAd  HelpToQuit  \\\n",
       "1                         40.9                     4           4   \n",
       "4                         69.7                     4           5   \n",
       "7                         44.1                     2           4   \n",
       "\n",
       "  ParentLocationCode ParentLocation SpatialDimValueCode      Gender  Value  \n",
       "1                AFR         Africa                 DZA  Both sexes   19.4  \n",
       "4                AMR       Americas                 ARG  Both sexes   25.6  \n",
       "7                EUR         Europe                 ARM  Both sexes   28.3  "
      ]
     },
     "execution_count": 29,
     "metadata": {},
     "output_type": "execute_result"
    }
   ],
   "source": [
    "model_1_df = model_1_df[model_1_df['Gender'] == 'Both sexes']\n",
    "model_1_df.head(3)"
   ]
  },
  {
   "cell_type": "code",
   "execution_count": 30,
   "id": "189c037c",
   "metadata": {},
   "outputs": [
    {
     "data": {
      "text/html": [
       "<div>\n",
       "<style scoped>\n",
       "    .dataframe tbody tr th:only-of-type {\n",
       "        vertical-align: middle;\n",
       "    }\n",
       "\n",
       "    .dataframe tbody tr th {\n",
       "        vertical-align: top;\n",
       "    }\n",
       "\n",
       "    .dataframe thead th {\n",
       "        text-align: right;\n",
       "    }\n",
       "</style>\n",
       "<table border=\"1\" class=\"dataframe\">\n",
       "  <thead>\n",
       "    <tr style=\"text-align: right;\">\n",
       "      <th></th>\n",
       "      <th>Entity</th>\n",
       "      <th>Year</th>\n",
       "      <th>EnforceBansTobaccoAd</th>\n",
       "      <th>HelpToQuit</th>\n",
       "      <th>ParentLocation</th>\n",
       "      <th>Gender</th>\n",
       "      <th>Value</th>\n",
       "    </tr>\n",
       "  </thead>\n",
       "  <tbody>\n",
       "    <tr>\n",
       "      <th>1</th>\n",
       "      <td>Algeria</td>\n",
       "      <td>2014</td>\n",
       "      <td>4</td>\n",
       "      <td>4</td>\n",
       "      <td>Africa</td>\n",
       "      <td>Both sexes</td>\n",
       "      <td>19.4</td>\n",
       "    </tr>\n",
       "    <tr>\n",
       "      <th>4</th>\n",
       "      <td>Argentina</td>\n",
       "      <td>2014</td>\n",
       "      <td>4</td>\n",
       "      <td>5</td>\n",
       "      <td>Americas</td>\n",
       "      <td>Both sexes</td>\n",
       "      <td>25.6</td>\n",
       "    </tr>\n",
       "    <tr>\n",
       "      <th>7</th>\n",
       "      <td>Armenia</td>\n",
       "      <td>2014</td>\n",
       "      <td>2</td>\n",
       "      <td>4</td>\n",
       "      <td>Europe</td>\n",
       "      <td>Both sexes</td>\n",
       "      <td>28.3</td>\n",
       "    </tr>\n",
       "    <tr>\n",
       "      <th>10</th>\n",
       "      <td>Australia</td>\n",
       "      <td>2014</td>\n",
       "      <td>4</td>\n",
       "      <td>5</td>\n",
       "      <td>Western Pacific</td>\n",
       "      <td>Both sexes</td>\n",
       "      <td>18.2</td>\n",
       "    </tr>\n",
       "    <tr>\n",
       "      <th>13</th>\n",
       "      <td>Austria</td>\n",
       "      <td>2014</td>\n",
       "      <td>4</td>\n",
       "      <td>4</td>\n",
       "      <td>Europe</td>\n",
       "      <td>Both sexes</td>\n",
       "      <td>32.5</td>\n",
       "    </tr>\n",
       "    <tr>\n",
       "      <th>16</th>\n",
       "      <td>Azerbaijan</td>\n",
       "      <td>2014</td>\n",
       "      <td>4</td>\n",
       "      <td>3</td>\n",
       "      <td>Europe</td>\n",
       "      <td>Both sexes</td>\n",
       "      <td>21.1</td>\n",
       "    </tr>\n",
       "    <tr>\n",
       "      <th>18</th>\n",
       "      <td>Bahamas</td>\n",
       "      <td>2014</td>\n",
       "      <td>2</td>\n",
       "      <td>4</td>\n",
       "      <td>Americas</td>\n",
       "      <td>Both sexes</td>\n",
       "      <td>11.0</td>\n",
       "    </tr>\n",
       "    <tr>\n",
       "      <th>22</th>\n",
       "      <td>Bangladesh</td>\n",
       "      <td>2014</td>\n",
       "      <td>4</td>\n",
       "      <td>3</td>\n",
       "      <td>South-East Asia</td>\n",
       "      <td>Both sexes</td>\n",
       "      <td>41.1</td>\n",
       "    </tr>\n",
       "    <tr>\n",
       "      <th>25</th>\n",
       "      <td>Belarus</td>\n",
       "      <td>2014</td>\n",
       "      <td>4</td>\n",
       "      <td>4</td>\n",
       "      <td>Europe</td>\n",
       "      <td>Both sexes</td>\n",
       "      <td>28.7</td>\n",
       "    </tr>\n",
       "    <tr>\n",
       "      <th>28</th>\n",
       "      <td>Belgium</td>\n",
       "      <td>2014</td>\n",
       "      <td>4</td>\n",
       "      <td>5</td>\n",
       "      <td>Europe</td>\n",
       "      <td>Both sexes</td>\n",
       "      <td>25.9</td>\n",
       "    </tr>\n",
       "  </tbody>\n",
       "</table>\n",
       "</div>"
      ],
      "text/plain": [
       "        Entity  Year  EnforceBansTobaccoAd  HelpToQuit   ParentLocation  \\\n",
       "1      Algeria  2014                     4           4           Africa   \n",
       "4    Argentina  2014                     4           5         Americas   \n",
       "7      Armenia  2014                     2           4           Europe   \n",
       "10   Australia  2014                     4           5  Western Pacific   \n",
       "13     Austria  2014                     4           4           Europe   \n",
       "16  Azerbaijan  2014                     4           3           Europe   \n",
       "18     Bahamas  2014                     2           4         Americas   \n",
       "22  Bangladesh  2014                     4           3  South-East Asia   \n",
       "25     Belarus  2014                     4           4           Europe   \n",
       "28     Belgium  2014                     4           5           Europe   \n",
       "\n",
       "        Gender  Value  \n",
       "1   Both sexes   19.4  \n",
       "4   Both sexes   25.6  \n",
       "7   Both sexes   28.3  \n",
       "10  Both sexes   18.2  \n",
       "13  Both sexes   32.5  \n",
       "16  Both sexes   21.1  \n",
       "18  Both sexes   11.0  \n",
       "22  Both sexes   41.1  \n",
       "25  Both sexes   28.7  \n",
       "28  Both sexes   25.9  "
      ]
     },
     "execution_count": 30,
     "metadata": {},
     "output_type": "execute_result"
    }
   ],
   "source": [
    "model_1_df = model_1_df[['Entity', 'Year', 'EnforceBansTobaccoAd', 'HelpToQuit', 'ParentLocation', 'Gender', 'Value']]\n",
    "model_1_df.head(10)"
   ]
  },
  {
   "cell_type": "code",
   "execution_count": 31,
   "id": "59f6aac9",
   "metadata": {},
   "outputs": [],
   "source": [
    "model_1_df['MPOWER'] = (model_1_df['EnforceBansTobaccoAd'] + model_1_df['HelpToQuit']) / 2"
   ]
  },
  {
   "cell_type": "code",
   "execution_count": 32,
   "id": "83c4f4c5",
   "metadata": {},
   "outputs": [
    {
     "data": {
      "text/html": [
       "<div>\n",
       "<style scoped>\n",
       "    .dataframe tbody tr th:only-of-type {\n",
       "        vertical-align: middle;\n",
       "    }\n",
       "\n",
       "    .dataframe tbody tr th {\n",
       "        vertical-align: top;\n",
       "    }\n",
       "\n",
       "    .dataframe thead th {\n",
       "        text-align: right;\n",
       "    }\n",
       "</style>\n",
       "<table border=\"1\" class=\"dataframe\">\n",
       "  <thead>\n",
       "    <tr style=\"text-align: right;\">\n",
       "      <th></th>\n",
       "      <th>Entity</th>\n",
       "      <th>Year</th>\n",
       "      <th>EnforceBansTobaccoAd</th>\n",
       "      <th>HelpToQuit</th>\n",
       "      <th>ParentLocation</th>\n",
       "      <th>Gender</th>\n",
       "      <th>Value</th>\n",
       "      <th>MPOWER</th>\n",
       "    </tr>\n",
       "  </thead>\n",
       "  <tbody>\n",
       "    <tr>\n",
       "      <th>1</th>\n",
       "      <td>Algeria</td>\n",
       "      <td>2014</td>\n",
       "      <td>4</td>\n",
       "      <td>4</td>\n",
       "      <td>Africa</td>\n",
       "      <td>Both sexes</td>\n",
       "      <td>19.4</td>\n",
       "      <td>4.0</td>\n",
       "    </tr>\n",
       "    <tr>\n",
       "      <th>4</th>\n",
       "      <td>Argentina</td>\n",
       "      <td>2014</td>\n",
       "      <td>4</td>\n",
       "      <td>5</td>\n",
       "      <td>Americas</td>\n",
       "      <td>Both sexes</td>\n",
       "      <td>25.6</td>\n",
       "      <td>4.5</td>\n",
       "    </tr>\n",
       "    <tr>\n",
       "      <th>7</th>\n",
       "      <td>Armenia</td>\n",
       "      <td>2014</td>\n",
       "      <td>2</td>\n",
       "      <td>4</td>\n",
       "      <td>Europe</td>\n",
       "      <td>Both sexes</td>\n",
       "      <td>28.3</td>\n",
       "      <td>3.0</td>\n",
       "    </tr>\n",
       "    <tr>\n",
       "      <th>10</th>\n",
       "      <td>Australia</td>\n",
       "      <td>2014</td>\n",
       "      <td>4</td>\n",
       "      <td>5</td>\n",
       "      <td>Western Pacific</td>\n",
       "      <td>Both sexes</td>\n",
       "      <td>18.2</td>\n",
       "      <td>4.5</td>\n",
       "    </tr>\n",
       "    <tr>\n",
       "      <th>13</th>\n",
       "      <td>Austria</td>\n",
       "      <td>2014</td>\n",
       "      <td>4</td>\n",
       "      <td>4</td>\n",
       "      <td>Europe</td>\n",
       "      <td>Both sexes</td>\n",
       "      <td>32.5</td>\n",
       "      <td>4.0</td>\n",
       "    </tr>\n",
       "    <tr>\n",
       "      <th>16</th>\n",
       "      <td>Azerbaijan</td>\n",
       "      <td>2014</td>\n",
       "      <td>4</td>\n",
       "      <td>3</td>\n",
       "      <td>Europe</td>\n",
       "      <td>Both sexes</td>\n",
       "      <td>21.1</td>\n",
       "      <td>3.5</td>\n",
       "    </tr>\n",
       "    <tr>\n",
       "      <th>18</th>\n",
       "      <td>Bahamas</td>\n",
       "      <td>2014</td>\n",
       "      <td>2</td>\n",
       "      <td>4</td>\n",
       "      <td>Americas</td>\n",
       "      <td>Both sexes</td>\n",
       "      <td>11.0</td>\n",
       "      <td>3.0</td>\n",
       "    </tr>\n",
       "    <tr>\n",
       "      <th>22</th>\n",
       "      <td>Bangladesh</td>\n",
       "      <td>2014</td>\n",
       "      <td>4</td>\n",
       "      <td>3</td>\n",
       "      <td>South-East Asia</td>\n",
       "      <td>Both sexes</td>\n",
       "      <td>41.1</td>\n",
       "      <td>3.5</td>\n",
       "    </tr>\n",
       "    <tr>\n",
       "      <th>25</th>\n",
       "      <td>Belarus</td>\n",
       "      <td>2014</td>\n",
       "      <td>4</td>\n",
       "      <td>4</td>\n",
       "      <td>Europe</td>\n",
       "      <td>Both sexes</td>\n",
       "      <td>28.7</td>\n",
       "      <td>4.0</td>\n",
       "    </tr>\n",
       "    <tr>\n",
       "      <th>28</th>\n",
       "      <td>Belgium</td>\n",
       "      <td>2014</td>\n",
       "      <td>4</td>\n",
       "      <td>5</td>\n",
       "      <td>Europe</td>\n",
       "      <td>Both sexes</td>\n",
       "      <td>25.9</td>\n",
       "      <td>4.5</td>\n",
       "    </tr>\n",
       "  </tbody>\n",
       "</table>\n",
       "</div>"
      ],
      "text/plain": [
       "        Entity  Year  EnforceBansTobaccoAd  HelpToQuit   ParentLocation  \\\n",
       "1      Algeria  2014                     4           4           Africa   \n",
       "4    Argentina  2014                     4           5         Americas   \n",
       "7      Armenia  2014                     2           4           Europe   \n",
       "10   Australia  2014                     4           5  Western Pacific   \n",
       "13     Austria  2014                     4           4           Europe   \n",
       "16  Azerbaijan  2014                     4           3           Europe   \n",
       "18     Bahamas  2014                     2           4         Americas   \n",
       "22  Bangladesh  2014                     4           3  South-East Asia   \n",
       "25     Belarus  2014                     4           4           Europe   \n",
       "28     Belgium  2014                     4           5           Europe   \n",
       "\n",
       "        Gender  Value  MPOWER  \n",
       "1   Both sexes   19.4     4.0  \n",
       "4   Both sexes   25.6     4.5  \n",
       "7   Both sexes   28.3     3.0  \n",
       "10  Both sexes   18.2     4.5  \n",
       "13  Both sexes   32.5     4.0  \n",
       "16  Both sexes   21.1     3.5  \n",
       "18  Both sexes   11.0     3.0  \n",
       "22  Both sexes   41.1     3.5  \n",
       "25  Both sexes   28.7     4.0  \n",
       "28  Both sexes   25.9     4.5  "
      ]
     },
     "execution_count": 32,
     "metadata": {},
     "output_type": "execute_result"
    }
   ],
   "source": [
    "model_1_df.head(10)"
   ]
  },
  {
   "cell_type": "code",
   "execution_count": 33,
   "id": "e62abcca",
   "metadata": {
    "scrolled": true
   },
   "outputs": [
    {
     "data": {
      "text/plain": [
       "4    138\n",
       "3     86\n",
       "5     32\n",
       "2     18\n",
       "Name: HelpToQuit, dtype: int64"
      ]
     },
     "execution_count": 33,
     "metadata": {},
     "output_type": "execute_result"
    }
   ],
   "source": [
    "model_1_df['HelpToQuit'].value_counts()"
   ]
  },
  {
   "cell_type": "code",
   "execution_count": 34,
   "id": "6ec2c585",
   "metadata": {},
   "outputs": [
    {
     "data": {
      "text/plain": [
       "4    164\n",
       "2     75\n",
       "5     35\n",
       "Name: EnforceBansTobaccoAd, dtype: int64"
      ]
     },
     "execution_count": 34,
     "metadata": {},
     "output_type": "execute_result"
    }
   ],
   "source": [
    "model_1_df['EnforceBansTobaccoAd'].value_counts()"
   ]
  },
  {
   "cell_type": "code",
   "execution_count": 35,
   "id": "9a33e9fc",
   "metadata": {},
   "outputs": [
    {
     "data": {
      "text/plain": [
       "3.625912408759124"
      ]
     },
     "execution_count": 35,
     "metadata": {},
     "output_type": "execute_result"
    }
   ],
   "source": [
    "model_1_df['MPOWER'].mean()"
   ]
  },
  {
   "cell_type": "code",
   "execution_count": 36,
   "id": "59392462",
   "metadata": {},
   "outputs": [
    {
     "data": {
      "text/plain": [
       "4.0"
      ]
     },
     "execution_count": 36,
     "metadata": {},
     "output_type": "execute_result"
    }
   ],
   "source": [
    "model_1_df['MPOWER'].median()"
   ]
  },
  {
   "cell_type": "code",
   "execution_count": 37,
   "id": "1f239656",
   "metadata": {},
   "outputs": [],
   "source": [
    "# Create a function that divides movies into high/low popular movies\n",
    "# If some movies are having exact same value as median, I won't be using those movies \n",
    "def high_low_check(x):\n",
    "    \n",
    "    if x > model_1_df['MPOWER'].median(): return 'high'\n",
    "    elif x < model_1_df['MPOWER'].median(): return 'low'\n",
    "    else: return 'same'\n",
    "    \n",
    "model_1_df['median_check'] = model_1_df['MPOWER'].apply(lambda x: high_low_check(x))"
   ]
  },
  {
   "cell_type": "code",
   "execution_count": 38,
   "id": "b19870eb",
   "metadata": {},
   "outputs": [
    {
     "data": {
      "text/plain": [
       "low     127\n",
       "same    108\n",
       "high     39\n",
       "Name: median_check, dtype: int64"
      ]
     },
     "execution_count": 38,
     "metadata": {},
     "output_type": "execute_result"
    }
   ],
   "source": [
    "model_1_df['median_check'].value_counts()"
   ]
  },
  {
   "cell_type": "code",
   "execution_count": 39,
   "id": "a0da3828",
   "metadata": {},
   "outputs": [],
   "source": [
    "# Create a function that divides movies into high/low popular movies\n",
    "# If some movies are having exact same value as median, I won't be using those movies \n",
    "def high_low_check_mean(x):\n",
    "    \n",
    "    if x > model_1_df['MPOWER'].mean(): return 'high'\n",
    "    elif x < model_1_df['MPOWER'].mean(): return 'low'\n",
    "    else: return 'same'\n",
    "    \n",
    "model_1_df['mean_check'] = model_1_df['MPOWER'].apply(lambda x: high_low_check_mean(x))"
   ]
  },
  {
   "cell_type": "code",
   "execution_count": 40,
   "id": "1db5eb5b",
   "metadata": {},
   "outputs": [
    {
     "data": {
      "text/plain": [
       "high    147\n",
       "low     127\n",
       "Name: mean_check, dtype: int64"
      ]
     },
     "execution_count": 40,
     "metadata": {},
     "output_type": "execute_result"
    }
   ],
   "source": [
    "model_1_df['mean_check'].value_counts()"
   ]
  },
  {
   "cell_type": "code",
   "execution_count": 41,
   "id": "78fbfbd7",
   "metadata": {},
   "outputs": [
    {
     "data": {
      "text/html": [
       "<div>\n",
       "<style scoped>\n",
       "    .dataframe tbody tr th:only-of-type {\n",
       "        vertical-align: middle;\n",
       "    }\n",
       "\n",
       "    .dataframe tbody tr th {\n",
       "        vertical-align: top;\n",
       "    }\n",
       "\n",
       "    .dataframe thead th {\n",
       "        text-align: right;\n",
       "    }\n",
       "</style>\n",
       "<table border=\"1\" class=\"dataframe\">\n",
       "  <thead>\n",
       "    <tr style=\"text-align: right;\">\n",
       "      <th></th>\n",
       "      <th>Entity</th>\n",
       "      <th>Year</th>\n",
       "      <th>EnforceBansTobaccoAd</th>\n",
       "      <th>HelpToQuit</th>\n",
       "      <th>ParentLocation</th>\n",
       "      <th>Gender</th>\n",
       "      <th>Value</th>\n",
       "      <th>MPOWER</th>\n",
       "      <th>median_check</th>\n",
       "      <th>mean_check</th>\n",
       "    </tr>\n",
       "  </thead>\n",
       "  <tbody>\n",
       "    <tr>\n",
       "      <th>1</th>\n",
       "      <td>Algeria</td>\n",
       "      <td>2014</td>\n",
       "      <td>4</td>\n",
       "      <td>4</td>\n",
       "      <td>Africa</td>\n",
       "      <td>Both sexes</td>\n",
       "      <td>19.4</td>\n",
       "      <td>4.0</td>\n",
       "      <td>same</td>\n",
       "      <td>high</td>\n",
       "    </tr>\n",
       "    <tr>\n",
       "      <th>4</th>\n",
       "      <td>Argentina</td>\n",
       "      <td>2014</td>\n",
       "      <td>4</td>\n",
       "      <td>5</td>\n",
       "      <td>Americas</td>\n",
       "      <td>Both sexes</td>\n",
       "      <td>25.6</td>\n",
       "      <td>4.5</td>\n",
       "      <td>high</td>\n",
       "      <td>high</td>\n",
       "    </tr>\n",
       "    <tr>\n",
       "      <th>7</th>\n",
       "      <td>Armenia</td>\n",
       "      <td>2014</td>\n",
       "      <td>2</td>\n",
       "      <td>4</td>\n",
       "      <td>Europe</td>\n",
       "      <td>Both sexes</td>\n",
       "      <td>28.3</td>\n",
       "      <td>3.0</td>\n",
       "      <td>low</td>\n",
       "      <td>low</td>\n",
       "    </tr>\n",
       "    <tr>\n",
       "      <th>10</th>\n",
       "      <td>Australia</td>\n",
       "      <td>2014</td>\n",
       "      <td>4</td>\n",
       "      <td>5</td>\n",
       "      <td>Western Pacific</td>\n",
       "      <td>Both sexes</td>\n",
       "      <td>18.2</td>\n",
       "      <td>4.5</td>\n",
       "      <td>high</td>\n",
       "      <td>high</td>\n",
       "    </tr>\n",
       "    <tr>\n",
       "      <th>13</th>\n",
       "      <td>Austria</td>\n",
       "      <td>2014</td>\n",
       "      <td>4</td>\n",
       "      <td>4</td>\n",
       "      <td>Europe</td>\n",
       "      <td>Both sexes</td>\n",
       "      <td>32.5</td>\n",
       "      <td>4.0</td>\n",
       "      <td>same</td>\n",
       "      <td>high</td>\n",
       "    </tr>\n",
       "    <tr>\n",
       "      <th>16</th>\n",
       "      <td>Azerbaijan</td>\n",
       "      <td>2014</td>\n",
       "      <td>4</td>\n",
       "      <td>3</td>\n",
       "      <td>Europe</td>\n",
       "      <td>Both sexes</td>\n",
       "      <td>21.1</td>\n",
       "      <td>3.5</td>\n",
       "      <td>low</td>\n",
       "      <td>low</td>\n",
       "    </tr>\n",
       "    <tr>\n",
       "      <th>18</th>\n",
       "      <td>Bahamas</td>\n",
       "      <td>2014</td>\n",
       "      <td>2</td>\n",
       "      <td>4</td>\n",
       "      <td>Americas</td>\n",
       "      <td>Both sexes</td>\n",
       "      <td>11.0</td>\n",
       "      <td>3.0</td>\n",
       "      <td>low</td>\n",
       "      <td>low</td>\n",
       "    </tr>\n",
       "    <tr>\n",
       "      <th>22</th>\n",
       "      <td>Bangladesh</td>\n",
       "      <td>2014</td>\n",
       "      <td>4</td>\n",
       "      <td>3</td>\n",
       "      <td>South-East Asia</td>\n",
       "      <td>Both sexes</td>\n",
       "      <td>41.1</td>\n",
       "      <td>3.5</td>\n",
       "      <td>low</td>\n",
       "      <td>low</td>\n",
       "    </tr>\n",
       "    <tr>\n",
       "      <th>25</th>\n",
       "      <td>Belarus</td>\n",
       "      <td>2014</td>\n",
       "      <td>4</td>\n",
       "      <td>4</td>\n",
       "      <td>Europe</td>\n",
       "      <td>Both sexes</td>\n",
       "      <td>28.7</td>\n",
       "      <td>4.0</td>\n",
       "      <td>same</td>\n",
       "      <td>high</td>\n",
       "    </tr>\n",
       "    <tr>\n",
       "      <th>28</th>\n",
       "      <td>Belgium</td>\n",
       "      <td>2014</td>\n",
       "      <td>4</td>\n",
       "      <td>5</td>\n",
       "      <td>Europe</td>\n",
       "      <td>Both sexes</td>\n",
       "      <td>25.9</td>\n",
       "      <td>4.5</td>\n",
       "      <td>high</td>\n",
       "      <td>high</td>\n",
       "    </tr>\n",
       "  </tbody>\n",
       "</table>\n",
       "</div>"
      ],
      "text/plain": [
       "        Entity  Year  EnforceBansTobaccoAd  HelpToQuit   ParentLocation  \\\n",
       "1      Algeria  2014                     4           4           Africa   \n",
       "4    Argentina  2014                     4           5         Americas   \n",
       "7      Armenia  2014                     2           4           Europe   \n",
       "10   Australia  2014                     4           5  Western Pacific   \n",
       "13     Austria  2014                     4           4           Europe   \n",
       "16  Azerbaijan  2014                     4           3           Europe   \n",
       "18     Bahamas  2014                     2           4         Americas   \n",
       "22  Bangladesh  2014                     4           3  South-East Asia   \n",
       "25     Belarus  2014                     4           4           Europe   \n",
       "28     Belgium  2014                     4           5           Europe   \n",
       "\n",
       "        Gender  Value  MPOWER median_check mean_check  \n",
       "1   Both sexes   19.4     4.0         same       high  \n",
       "4   Both sexes   25.6     4.5         high       high  \n",
       "7   Both sexes   28.3     3.0          low        low  \n",
       "10  Both sexes   18.2     4.5         high       high  \n",
       "13  Both sexes   32.5     4.0         same       high  \n",
       "16  Both sexes   21.1     3.5          low        low  \n",
       "18  Both sexes   11.0     3.0          low        low  \n",
       "22  Both sexes   41.1     3.5          low        low  \n",
       "25  Both sexes   28.7     4.0         same       high  \n",
       "28  Both sexes   25.9     4.5         high       high  "
      ]
     },
     "execution_count": 41,
     "metadata": {},
     "output_type": "execute_result"
    }
   ],
   "source": [
    "model_1_df.head(10)"
   ]
  },
  {
   "cell_type": "code",
   "execution_count": 42,
   "id": "9761cd1c",
   "metadata": {},
   "outputs": [],
   "source": [
    "# now let's filter movies that are popluar\n",
    "high_median = model_1_df[model_1_df.loc[:, 'median_check'] == 'high']['MPOWER']\n",
    "low_median = model_1_df[model_1_df.loc[:, 'median_check'] == 'low']['MPOWER']"
   ]
  },
  {
   "cell_type": "code",
   "execution_count": 43,
   "id": "a2e17df8",
   "metadata": {},
   "outputs": [],
   "source": [
    "# now let's filter movies that are popluar\n",
    "high_mean = model_1_df[model_1_df.loc[:, 'mean_check'] == 'high']['MPOWER']\n",
    "low_mean = model_1_df[model_1_df.loc[:, 'mean_check'] == 'low']['MPOWER']"
   ]
  },
  {
   "cell_type": "code",
   "execution_count": 44,
   "id": "cf170204",
   "metadata": {},
   "outputs": [
    {
     "data": {
      "text/plain": [
       "Ttest_indResult(statistic=24.396864568871283, pvalue=1.9139737699335403e-70)"
      ]
     },
     "execution_count": 44,
     "metadata": {},
     "output_type": "execute_result"
    }
   ],
   "source": [
    "from scipy import stats\n",
    "\n",
    "# Then, calculate p-value by using t-test(comparing mean values)\n",
    "\n",
    "# p-value was relatively small(1.9139737699335403e-70) compared to significant level a=0.005\n",
    "# reject null hypothesis and conclude that effort on MPOWER affects usage\n",
    "t_test = stats.ttest_ind(high_mean, low_mean)\n",
    "t_test"
   ]
  },
  {
   "cell_type": "code",
   "execution_count": 45,
   "id": "65461127",
   "metadata": {},
   "outputs": [
    {
     "data": {
      "text/plain": [
       "MannwhitneyuResult(statistic=4953.0, pvalue=3.072457430281832e-22)"
      ]
     },
     "execution_count": 45,
     "metadata": {},
     "output_type": "execute_result"
    }
   ],
   "source": [
    "from scipy import stats\n",
    "\n",
    "# Then, calculate p-value by using Mann-Whitney U test(comparing median values)\n",
    "\n",
    "# p-value was relatively small(3.072457430281832e-22) compared to significant level a=0.005\n",
    "# reject null hypothesis and conclude that effort on MPOWER affects usage\n",
    "u_test = stats.mannwhitneyu(high_median, low_median)\n",
    "u_test"
   ]
  },
  {
   "cell_type": "code",
   "execution_count": null,
   "id": "c5c04f67",
   "metadata": {},
   "outputs": [],
   "source": []
  }
 ],
 "metadata": {
  "kernelspec": {
   "display_name": "Python 3",
   "language": "python",
   "name": "python3"
  },
  "language_info": {
   "codemirror_mode": {
    "name": "ipython",
    "version": 3
   },
   "file_extension": ".py",
   "mimetype": "text/x-python",
   "name": "python",
   "nbconvert_exporter": "python",
   "pygments_lexer": "ipython3",
   "version": "3.8.8"
  }
 },
 "nbformat": 4,
 "nbformat_minor": 5
}
